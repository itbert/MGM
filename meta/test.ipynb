{
 "cells": [
  {
   "cell_type": "code",
   "execution_count": null,
   "metadata": {},
   "outputs": [],
   "source": [
    "import torch\n",
    "    \n",
    "from data.task_dataset import TaskDataset\n",
    "\n",
    "from models.encoder import Encoder\n",
    "from models.architecture_generator import ArchitectureGenerator\n",
    "from models.weight_generator import WeightGenerator\n",
    "from models.evaluator import Evaluator"
   ]
  },
  {
   "cell_type": "code",
   "execution_count": null,
   "metadata": {},
   "outputs": [],
   "source": [
    "vocab_size = 10000\n",
    "max_length = 50\n",
    "num_classes = 10\n",
    "num_samples = 1000\n",
    "batch_size = 32"
   ]
  },
  {
   "cell_type": "code",
   "execution_count": null,
   "metadata": {},
   "outputs": [],
   "source": [
    "dataset = TaskDataset(num_samples, vocab_size, max_length, num_classes)\n",
    "dataloader = torch.utils.data.DataLoader(dataset, batch_size=batch_size, shuffle=False)"
   ]
  },
  {
   "cell_type": "code",
   "execution_count": null,
   "metadata": {},
   "outputs": [],
   "source": [
    "\n",
    "encoder = Encoder(\n",
    "    input_size=vocab_size,\n",
    "    hidden_size=128, \n",
    "    output_size=256, \n",
    "    num_layers=2,\n",
    "    dropout=0.5\n",
    "    )\n",
    "\n",
    "architecture_generator = ArchitectureGenerator(\n",
    "    input_size=256, \n",
    "    hidden_size=128, \n",
    "    output_size=128, \n",
    "    num_layers=2, \n",
    "    dropout=0.5\n",
    "    )\n",
    "\n",
    "weight_generator = WeightGenerator(\n",
    "    input_size=256, \n",
    "    hidden_size=128, \n",
    "    output_size=128, \n",
    "    num_layers=2, \n",
    "    dropout=0.5\n",
    "    )\n",
    "\n",
    "evaluator = Evaluator(\n",
    "    input_size=128, \n",
    "    hidden_size=128,\n",
    "    output_size=1, \n",
    "    num_layers=2, \n",
    "    dropout=0.5\n",
    "    )"
   ]
  },
  {
   "cell_type": "code",
   "execution_count": null,
   "metadata": {},
   "outputs": [],
   "source": [
    "# Загрузка готовых моделей\n",
    "encoder.load_state_dict(torch.load('encoder.pth'))\n",
    "architecture_generator.load_state_dict(torch.load('architecture_generator.pth'))\n",
    "weight_generator.load_state_dict(torch.load('weight_generator.pth'))\n",
    "evaluator.load_state_dict(torch.load('evaluator.pth'))"
   ]
  },
  {
   "cell_type": "code",
   "execution_count": null,
   "metadata": {},
   "outputs": [],
   "source": [
    "encoder.eval()\n",
    "architecture_generator.eval()\n",
    "weight_generator.eval()\n",
    "evaluator.eval()"
   ]
  },
  {
   "cell_type": "code",
   "execution_count": null,
   "metadata": {},
   "outputs": [],
   "source": [
    "with torch.no_grad():\n",
    "    for (task_description, true_architecture, \n",
    "         true_weights, true_quality_metric) in dataloader:\n",
    "        \n",
    "        encoded_task = encoder(task_description)\n",
    "        generated_architecture = architecture_generator(encoded_task)\n",
    "        generated_weights = weight_generator(encoded_task)\n",
    "        quality_metric = evaluator(generated_architecture)\n",
    "\n",
    "        print(f'True Quality Metric: {true_quality_metric.item()},\n",
    "              Generated Quality Metric: {quality_metric.item()}')"
   ]
  },
  {
   "cell_type": "code",
   "execution_count": null,
   "metadata": {},
   "outputs": [],
   "source": [
    "with torch.no_grad():\n",
    "    for (task_description, true_architecture, \n",
    "         true_weights, true_quality_metric) in dataloader:\n",
    "        \n",
    "        encoded_task = encoder(task_description)\n",
    "        generated_architecture = architecture_generator(encoded_task)\n",
    "        generated_weights = weight_generator(encoded_task)\n",
    "        quality_metric = evaluator(generated_architecture)\n",
    "\n",
    "        print(f'True Quality Metric: {true_quality_metric.item()},\n",
    "              Generated Quality Metric: {quality_metric.item()}')"
   ]
  }
 ],
 "metadata": {
  "kernelspec": {
   "display_name": "venv",
   "language": "python",
   "name": "python3"
  },
  "language_info": {
   "name": "python",
   "version": "3.13.1"
  }
 },
 "nbformat": 4,
 "nbformat_minor": 2
}
